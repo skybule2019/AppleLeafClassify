{
 "cells": [
  {
   "cell_type": "markdown",
   "id": "95692e39",
   "metadata": {},
   "source": [
    "# 数据集的划分"
   ]
  },
  {
   "cell_type": "code",
   "execution_count": 1,
   "id": "f8515bc6",
   "metadata": {
    "scrolled": true
   },
   "outputs": [
    {
     "name": "stdout",
     "output_type": "stream",
     "text": [
      "Requirement already satisfied: numpy in /home/maoml/anaconda3/envs/workspace/lib/python3.9/site-packages (1.24.2)\n",
      "Requirement already satisfied: pandas in /home/maoml/anaconda3/envs/workspace/lib/python3.9/site-packages (1.3.0)\n",
      "Requirement already satisfied: matplotlib in /home/maoml/anaconda3/envs/workspace/lib/python3.9/site-packages (3.5.2)\n",
      "Requirement already satisfied: requests in /home/maoml/anaconda3/envs/workspace/lib/python3.9/site-packages (2.28.1)\n",
      "Requirement already satisfied: tqdm in /home/maoml/anaconda3/envs/workspace/lib/python3.9/site-packages (4.64.1)\n",
      "Requirement already satisfied: opencv-python in /home/maoml/anaconda3/envs/workspace/lib/python3.9/site-packages (4.7.0.72)\n",
      "Requirement already satisfied: pytz>=2017.3 in /home/maoml/anaconda3/envs/workspace/lib/python3.9/site-packages (from pandas) (2022.7)\n",
      "Requirement already satisfied: python-dateutil>=2.7.3 in /home/maoml/anaconda3/envs/workspace/lib/python3.9/site-packages (from pandas) (2.8.2)\n",
      "Requirement already satisfied: packaging>=20.0 in /home/maoml/anaconda3/envs/workspace/lib/python3.9/site-packages (from matplotlib) (22.0)\n",
      "Requirement already satisfied: kiwisolver>=1.0.1 in /home/maoml/anaconda3/envs/workspace/lib/python3.9/site-packages (from matplotlib) (1.4.4)\n",
      "Requirement already satisfied: pillow>=6.2.0 in /home/maoml/anaconda3/envs/workspace/lib/python3.9/site-packages (from matplotlib) (9.3.0)\n",
      "Requirement already satisfied: pyparsing>=2.2.1 in /home/maoml/anaconda3/envs/workspace/lib/python3.9/site-packages (from matplotlib) (3.0.9)\n",
      "Requirement already satisfied: cycler>=0.10 in /home/maoml/anaconda3/envs/workspace/lib/python3.9/site-packages (from matplotlib) (0.11.0)\n",
      "Requirement already satisfied: fonttools>=4.22.0 in /home/maoml/anaconda3/envs/workspace/lib/python3.9/site-packages (from matplotlib) (4.25.0)\n",
      "Requirement already satisfied: certifi>=2017.4.17 in /home/maoml/anaconda3/envs/workspace/lib/python3.9/site-packages (from requests) (2022.12.7)\n",
      "Requirement already satisfied: idna<4,>=2.5 in /home/maoml/anaconda3/envs/workspace/lib/python3.9/site-packages (from requests) (3.4)\n",
      "Requirement already satisfied: charset-normalizer<3,>=2 in /home/maoml/anaconda3/envs/workspace/lib/python3.9/site-packages (from requests) (2.1.1)\n",
      "Requirement already satisfied: urllib3<1.27,>=1.21.1 in /home/maoml/anaconda3/envs/workspace/lib/python3.9/site-packages (from requests) (1.26.14)\n",
      "Requirement already satisfied: six>=1.5 in /home/maoml/anaconda3/envs/workspace/lib/python3.9/site-packages (from python-dateutil>=2.7.3->pandas) (1.16.0)\n"
     ]
    }
   ],
   "source": [
    "\n",
    "# -*- coding: UTF-8 -*-\n",
    "!pip install numpy pandas matplotlib requests tqdm opencv-python"
   ]
  },
  {
   "cell_type": "code",
   "execution_count": 15,
   "id": "6c4826a5",
   "metadata": {},
   "outputs": [
    {
     "data": {
      "text/plain": [
       "['Mosaic',\n",
       " 'Grey spot',\n",
       " 'Alternaria leaf spot',\n",
       " 'Frogeye leaf spot',\n",
       " 'Powdery mildew',\n",
       " 'Rust',\n",
       " 'Health',\n",
       " 'Brown spot',\n",
       " 'Scab']"
      ]
     },
     "execution_count": 15,
     "metadata": {},
     "output_type": "execute_result"
    }
   ],
   "source": [
    "import os\n",
    "import numpy as np\n",
    "import pandas as pd\n",
    "import cv2\n",
    "from tqdm import tqdm\n",
    "\n",
    "\n",
    "# 指定数据集路径\n",
    "dataset_path = '/home/maoml/part_time_workspace/AppleLeaf9/'\n",
    "os.chdir(dataset_path)\n",
    "os.listdir()"
   ]
  },
  {
   "cell_type": "code",
   "execution_count": 16,
   "id": "37aaad75",
   "metadata": {},
   "outputs": [
    {
     "name": "stderr",
     "output_type": "stream",
     "text": [
      "100%|████████████████████████████████████████████| 9/9 [01:06<00:00,  7.34s/it]\n"
     ]
    }
   ],
   "source": [
    "df = pd.DataFrame()\n",
    "for fruit in tqdm(os.listdir()): # 遍历每个类别    \n",
    "    os.chdir(fruit)\n",
    "    for file in os.listdir(): # 遍历每张图像\n",
    "        try:\n",
    "            img = cv2.imread(file)\n",
    "            df = df.append({'类别':fruit, '文件名':file, '图像宽':img.shape[1], '图像高':img.shape[0]}, ignore_index=True)\n",
    "        except:\n",
    "            print(os.path.join(fruit, file), '读取错误')\n",
    "    os.chdir('../')\n",
    "os.chdir('../')"
   ]
  },
  {
   "cell_type": "code",
   "execution_count": 17,
   "id": "fcf74d28",
   "metadata": {},
   "outputs": [
    {
     "data": {
      "text/html": [
       "<div>\n",
       "<style scoped>\n",
       "    .dataframe tbody tr th:only-of-type {\n",
       "        vertical-align: middle;\n",
       "    }\n",
       "\n",
       "    .dataframe tbody tr th {\n",
       "        vertical-align: top;\n",
       "    }\n",
       "\n",
       "    .dataframe thead th {\n",
       "        text-align: right;\n",
       "    }\n",
       "</style>\n",
       "<table border=\"1\" class=\"dataframe\">\n",
       "  <thead>\n",
       "    <tr style=\"text-align: right;\">\n",
       "      <th></th>\n",
       "      <th>类别</th>\n",
       "      <th>文件名</th>\n",
       "      <th>图像宽</th>\n",
       "      <th>图像高</th>\n",
       "    </tr>\n",
       "  </thead>\n",
       "  <tbody>\n",
       "    <tr>\n",
       "      <th>0</th>\n",
       "      <td>Mosaic</td>\n",
       "      <td>Mosaic (7).jpg</td>\n",
       "      <td>460.0</td>\n",
       "      <td>604.0</td>\n",
       "    </tr>\n",
       "    <tr>\n",
       "      <th>1</th>\n",
       "      <td>Mosaic</td>\n",
       "      <td>Mosaic (263).jpg</td>\n",
       "      <td>512.0</td>\n",
       "      <td>512.0</td>\n",
       "    </tr>\n",
       "    <tr>\n",
       "      <th>2</th>\n",
       "      <td>Mosaic</td>\n",
       "      <td>Mosaic (68).jpg</td>\n",
       "      <td>512.0</td>\n",
       "      <td>512.0</td>\n",
       "    </tr>\n",
       "    <tr>\n",
       "      <th>3</th>\n",
       "      <td>Mosaic</td>\n",
       "      <td>Mosaic (238).jpg</td>\n",
       "      <td>512.0</td>\n",
       "      <td>512.0</td>\n",
       "    </tr>\n",
       "    <tr>\n",
       "      <th>4</th>\n",
       "      <td>Mosaic</td>\n",
       "      <td>Mosaic (67).jpg</td>\n",
       "      <td>512.0</td>\n",
       "      <td>512.0</td>\n",
       "    </tr>\n",
       "    <tr>\n",
       "      <th>...</th>\n",
       "      <td>...</td>\n",
       "      <td>...</td>\n",
       "      <td>...</td>\n",
       "      <td>...</td>\n",
       "    </tr>\n",
       "    <tr>\n",
       "      <th>14577</th>\n",
       "      <td>Scab</td>\n",
       "      <td>Scab (3587).jpg</td>\n",
       "      <td>958.0</td>\n",
       "      <td>640.0</td>\n",
       "    </tr>\n",
       "    <tr>\n",
       "      <th>14578</th>\n",
       "      <td>Scab</td>\n",
       "      <td>Scab (3828).jpg</td>\n",
       "      <td>958.0</td>\n",
       "      <td>640.0</td>\n",
       "    </tr>\n",
       "    <tr>\n",
       "      <th>14579</th>\n",
       "      <td>Scab</td>\n",
       "      <td>Scab (1564).jpg</td>\n",
       "      <td>958.0</td>\n",
       "      <td>640.0</td>\n",
       "    </tr>\n",
       "    <tr>\n",
       "      <th>14580</th>\n",
       "      <td>Scab</td>\n",
       "      <td>Scab (868).jpg</td>\n",
       "      <td>958.0</td>\n",
       "      <td>640.0</td>\n",
       "    </tr>\n",
       "    <tr>\n",
       "      <th>14581</th>\n",
       "      <td>Scab</td>\n",
       "      <td>Scab (2760).jpg</td>\n",
       "      <td>958.0</td>\n",
       "      <td>640.0</td>\n",
       "    </tr>\n",
       "  </tbody>\n",
       "</table>\n",
       "<p>14582 rows × 4 columns</p>\n",
       "</div>"
      ],
      "text/plain": [
       "           类别               文件名    图像宽    图像高\n",
       "0      Mosaic    Mosaic (7).jpg  460.0  604.0\n",
       "1      Mosaic  Mosaic (263).jpg  512.0  512.0\n",
       "2      Mosaic   Mosaic (68).jpg  512.0  512.0\n",
       "3      Mosaic  Mosaic (238).jpg  512.0  512.0\n",
       "4      Mosaic   Mosaic (67).jpg  512.0  512.0\n",
       "...       ...               ...    ...    ...\n",
       "14577    Scab   Scab (3587).jpg  958.0  640.0\n",
       "14578    Scab   Scab (3828).jpg  958.0  640.0\n",
       "14579    Scab   Scab (1564).jpg  958.0  640.0\n",
       "14580    Scab    Scab (868).jpg  958.0  640.0\n",
       "14581    Scab   Scab (2760).jpg  958.0  640.0\n",
       "\n",
       "[14582 rows x 4 columns]"
      ]
     },
     "execution_count": 17,
     "metadata": {},
     "output_type": "execute_result"
    }
   ],
   "source": [
    "df"
   ]
  },
  {
   "cell_type": "code",
   "execution_count": 19,
   "id": "a3e0f4d6",
   "metadata": {},
   "outputs": [
    {
     "data": {
      "image/png": "[encoded data removed]",
      "text/plain": [
       "<Figure size 1000x1000 with 1 Axes>"
      ]
     },
     "metadata": {},
     "output_type": "display_data"
    }
   ],
   "source": [
    "# 图片分布\n",
    "import matplotlib.pyplot as plt\n",
    "from scipy.stats import gaussian_kde\n",
    "from matplotlib.colors import LogNorm\n",
    "\n",
    "x = df['图像宽']\n",
    "y = df['图像高']\n",
    "\n",
    "xy = np.vstack([x,y])\n",
    "z = gaussian_kde(xy)(xy)\n",
    "\n",
    "# Sort the points by density, so that the densest points are plotted last\n",
    "idx = z.argsort()\n",
    "x, y, z = x[idx], y[idx], z[idx]\n",
    "\n",
    "plt.figure(figsize=(10,10))\n",
    "# plt.figure(figsize=(12,12))\n",
    "plt.scatter(x, y, c=z,  s=5, cmap='Spectral_r')\n",
    "# plt.colorbar()\n",
    "# plt.xticks([])\n",
    "# plt.yticks([])\n",
    "\n",
    "plt.tick_params(labelsize=15)\n",
    "\n",
    "xy_max = max(max(df['图像宽']), max(df['图像高']))\n",
    "plt.xlim(xmin=0, xmax=xy_max)\n",
    "plt.ylim(ymin=0, ymax=xy_max)\n",
    "\n",
    "plt.ylabel('height', fontsize=25)\n",
    "plt.xlabel('width', fontsize=25)\n",
    "\n",
    "plt.savefig('图像尺寸分布.pdf', dpi=120, bbox_inches='tight')\n",
    "\n",
    "plt.show()"
   ]
  },
  {
   "cell_type": "markdown",
   "id": "3caf8862",
   "metadata": {},
   "source": [
    "# 划分训练集与验证集"
   ]
  },
  {
   "cell_type": "code",
   "execution_count": 21,
   "id": "c30176f4",
   "metadata": {},
   "outputs": [
    {
     "name": "stdout",
     "output_type": "stream",
     "text": [
      "数据集 AppleLeaf9\n"
     ]
    }
   ],
   "source": [
    "import os\n",
    "import shutil\n",
    "import random\n",
    "import pandas as pd\n",
    "\n",
    "# 指定数据集路径\n",
    "dataset_path = 'AppleLeaf9'\n",
    "dataset_name = dataset_path.split('_')[0]\n",
    "print('数据集', dataset_name)"
   ]
  },
  {
   "cell_type": "code",
   "execution_count": 23,
   "id": "229ac5d7",
   "metadata": {},
   "outputs": [
    {
     "data": {
      "text/plain": [
       "['Mosaic',\n",
       " 'Grey spot',\n",
       " 'Alternaria leaf spot',\n",
       " 'Frogeye leaf spot',\n",
       " 'Powdery mildew',\n",
       " 'Rust',\n",
       " 'Health',\n",
       " 'Brown spot',\n",
       " 'Scab']"
      ]
     },
     "execution_count": 23,
     "metadata": {},
     "output_type": "execute_result"
    }
   ],
   "source": [
    "classes = os.listdir(dataset_path)\n",
    "classes"
   ]
  },
  {
   "cell_type": "markdown",
   "id": "32d43480",
   "metadata": {},
   "source": [
    "# 创建训练集和验证集文件夹"
   ]
  },
  {
   "cell_type": "code",
   "execution_count": 29,
   "id": "c4248656",
   "metadata": {},
   "outputs": [],
   "source": [
    "# 创建 train 文件夹\n",
    "os.mkdir(os.path.join(dataset_path, 'train'))\n",
    "\n",
    "# 创建 test 文件夹\n",
    "os.mkdir(os.path.join(dataset_path, 'val'))\n",
    "\n",
    "# 在 train 和 test 文件夹中创建各类别子文件夹\n",
    "for i in classes:\n",
    "    os.mkdir(os.path.join(dataset_path, 'train',i))\n",
    "    os.mkdir(os.path.join(dataset_path, 'val',i))"
   ]
  },
  {
   "cell_type": "markdown",
   "id": "57196c3e",
   "metadata": {},
   "source": [
    "# 划分训练集、测试集，移动文件"
   ]
  },
  {
   "cell_type": "code",
   "execution_count": 30,
   "id": "2b2ae302",
   "metadata": {},
   "outputs": [
    {
     "name": "stdout",
     "output_type": "stream",
     "text": [
      "        类别              训练集数据个数            测试集数据个数      \n",
      "      Mosaic              297                 74        \n",
      "    Grey spot             272                 67        \n",
      "Alternaria leaf spot        334                 83        \n",
      "Frogeye leaf spot         2545               636        \n",
      "  Powdery mildew          948                236        \n",
      "       Rust               2203               550        \n",
      "      Health              413                103        \n",
      "    Brown spot            329                 82        \n",
      "       Scab               4328               1082       \n"
     ]
    }
   ],
   "source": [
    "test_frac = 0.2  # 测试集比例\n",
    "random.seed(123) # 随机数种子，便于复现\n",
    "df = pd.DataFrame()\n",
    "\n",
    "print('{:^18} {:^18} {:^18}'.format('类别', '训练集数据个数', '测试集数据个数'))\n",
    "\n",
    "for fruit in classes: # 遍历每个类别\n",
    "\n",
    "    # 读取该类别的所有图像文件名\n",
    "    old_dir = os.path.join(dataset_path, fruit)\n",
    "    images_filename = os.listdir(old_dir)\n",
    "    random.shuffle(images_filename) # 随机打乱\n",
    "\n",
    "    # 划分训练集和测试集\n",
    "    testset_numer = int(len(images_filename) * test_frac) # 测试集图像个数\n",
    "    testset_images = images_filename[:testset_numer]      # 获取拟移动至 test 目录的测试集图像文件名\n",
    "    trainset_images = images_filename[testset_numer:]     # 获取拟移动至 train 目录的训练集图像文件名\n",
    "\n",
    "    # 移动图像至 test 目录\n",
    "    for image in testset_images:\n",
    "        old_img_path = os.path.join(dataset_path, fruit, image)         # 获取原始文件路径\n",
    "        new_test_path = os.path.join(dataset_path, 'val', fruit, image) # 获取 test 目录的新文件路径\n",
    "        shutil.move(old_img_path, new_test_path) # 移动文件\n",
    "\n",
    "    # 移动图像至 train 目录\n",
    "    for image in trainset_images:\n",
    "        old_img_path = os.path.join(dataset_path, fruit, image)           # 获取原始文件路径\n",
    "        new_train_path = os.path.join(dataset_path, 'train', fruit, image) # 获取 train 目录的新文件路径\n",
    "        shutil.move(old_img_path, new_train_path) # 移动文件\n",
    "    \n",
    "    # 删除旧文件夹\n",
    "    assert len(os.listdir(old_dir)) == 0 # 确保旧文件夹中的所有图像都被移动走\n",
    "    shutil.rmtree(old_dir) # 删除文件夹\n",
    "    \n",
    "    # 工整地输出每一类别的数据个数\n",
    "    print('{:^18} {:^18} {:^18}'.format(fruit, len(trainset_images), len(testset_images)))\n",
    "    \n",
    "    # 保存到表格中\n",
    "    df = df.append({'class':fruit, 'trainset':len(trainset_images), 'testset':len(testset_images)}, ignore_index=True)\n",
    "\n",
    "# 重命名数据集文件夹\n",
    "shutil.move(dataset_path, dataset_name+'_split')\n",
    "\n",
    "# 数据集各类别数量统计表格，导出为 csv 文件\n",
    "df['total'] = df['trainset'] + df['testset']\n",
    "df.to_csv('数据量统计.csv', index=False)"
   ]
  },
  {
   "cell_type": "markdown",
   "id": "8447f608",
   "metadata": {},
   "source": [
    "# 查看文件目录结构"
   ]
  },
  {
   "cell_type": "code",
   "execution_count": 33,
   "id": "e03e131c",
   "metadata": {},
   "outputs": [
    {
     "name": "stdout",
     "output_type": "stream",
     "text": [
      "\u001b[01;34m/home/maoml/part_time_workspace/AppleLeaf9_split/\u001b[00m\r\n",
      "├── \u001b[01;34mtrain\u001b[00m\r\n",
      "│   ├── \u001b[01;34mAlternaria leaf spot\u001b[00m\r\n",
      "│   ├── \u001b[01;34mBrown spot\u001b[00m\r\n",
      "│   ├── \u001b[01;34mFrogeye leaf spot\u001b[00m\r\n",
      "│   ├── \u001b[01;34mGrey spot\u001b[00m\r\n",
      "│   ├── \u001b[01;34mHealth\u001b[00m\r\n",
      "│   ├── \u001b[01;34mMosaic\u001b[00m\r\n",
      "│   ├── \u001b[01;34mPowdery mildew\u001b[00m\r\n",
      "│   ├── \u001b[01;34mRust\u001b[00m\r\n",
      "│   └── \u001b[01;34mScab\u001b[00m\r\n",
      "└── \u001b[01;34mval\u001b[00m\r\n",
      "    ├── \u001b[01;34mAlternaria leaf spot\u001b[00m\r\n",
      "    ├── \u001b[01;34mBrown spot\u001b[00m\r\n",
      "    ├── \u001b[01;34mFrogeye leaf spot\u001b[00m\r\n",
      "    ├── \u001b[01;34mGrey spot\u001b[00m\r\n",
      "    ├── \u001b[01;34mHealth\u001b[00m\r\n",
      "    ├── \u001b[01;34mMosaic\u001b[00m\r\n",
      "    ├── \u001b[01;34mPowdery mildew\u001b[00m\r\n",
      "    ├── \u001b[01;34mRust\u001b[00m\r\n",
      "    └── \u001b[01;34mScab\u001b[00m\r\n",
      "\r\n",
      "20 directories, 0 files\r\n"
     ]
    }
   ],
   "source": [
    "!tree /home/maoml/part_time_workspace/AppleLeaf9_split/ -L 2"
   ]
  }
 ],
 "metadata": {
  "kernelspec": {
   "display_name": "Python 3 (ipykernel)",
   "language": "python",
   "name": "python3"
  },
  "language_info": {
   "codemirror_mode": {
    "name": "ipython",
    "version": 3
   },
   "file_extension": ".py",
   "mimetype": "text/x-python",
   "name": "python",
   "nbconvert_exporter": "python",
   "pygments_lexer": "ipython3",
   "version": "3.9.16"
  }
 },
 "nbformat": 4,
 "nbformat_minor": 5
}
